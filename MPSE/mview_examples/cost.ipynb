{
 "cells": [
  {
   "cell_type": "markdown",
   "metadata": {},
   "source": [
    "# MPSE cost"
   ]
  },
  {
   "cell_type": "code",
   "execution_count": 1,
   "metadata": {},
   "outputs": [],
   "source": [
    "import sys; sys.path.insert(0,\"../\")\n",
    "import numpy as np\n",
    "\n",
    "import mview"
   ]
  },
  {
   "cell_type": "markdown",
   "metadata": {},
   "source": [
    "Here we go over how to compute MPSE costs and individual costs for a set of distances/dissimilarities and a candidate pair of embedding and projection parameters.\n",
    "\n",
    "The data used for this example is below:"
   ]
  },
  {
   "cell_type": "code",
   "execution_count": 2,
   "metadata": {},
   "outputs": [
    {
     "name": "stdout",
     "output_type": "stream",
     "text": [
      "embedding:\n",
      "[[ 0.28979389 -0.38231124  0.09648515]\n",
      " [-0.07017929  1.11091152  0.2896217 ]\n",
      " [ 1.28503085 -1.0137629  -0.71479559]\n",
      " [-0.84004353  0.82693493  0.47862131]]\n",
      "projections:\n",
      "[[1. 0. 0.]\n",
      " [0. 1. 0.]]\n",
      "[[1. 0. 0.]\n",
      " [0. 0. 1.]]\n",
      "[[0. 1. 0.]\n",
      " [0. 0. 1.]]\n",
      "images:\n",
      "[[ 0.28979389 -0.38231124]\n",
      " [-0.07017929  1.11091152]\n",
      " [ 1.28503085 -1.0137629 ]\n",
      " [-0.84004353  0.82693493]]\n",
      "[[ 0.28979389  0.09648515]\n",
      " [-0.07017929  0.2896217 ]\n",
      " [ 1.28503085 -0.71479559]\n",
      " [-0.84004353  0.47862131]]\n",
      "[[-0.38231124  0.09648515]\n",
      " [ 1.11091152  0.2896217 ]\n",
      " [-1.0137629  -0.71479559]\n",
      " [ 0.82693493  0.47862131]]\n",
      "distance matrices:\n",
      "[[0.         1.53599965 1.17865509 1.65493471]\n",
      " [1.53599965 0.         2.5200865  0.8205691 ]\n",
      " [1.17865509 2.5200865  0.         2.81142484]\n",
      " [1.65493471 0.8205691  2.81142484 0.        ]]\n",
      "[[0.         0.40851244 1.28400664 1.19271146]\n",
      " [0.40851244 0.         1.68684576 0.79272429]\n",
      " [1.28400664 1.68684576 0.         2.43724948]\n",
      " [1.19271146 0.79272429 2.43724948 0.        ]]\n",
      "[[0.         1.5056613  1.02806014 1.2681894 ]\n",
      " [1.5056613  0.         2.3501267  0.34112103]\n",
      " [1.02806014 2.3501267  0.         2.19372114]\n",
      " [1.2681894  0.34112103 2.19372114 0.        ]]\n"
     ]
    }
   ],
   "source": [
    "N = 4 #number of points\n",
    "X = np.random.randn(N,3) #positions in 3D\n",
    "Q = mview.projections.PROJ().generate(number=3,method='standard') #list with projection arrays\n",
    "\n",
    "print('embedding:')\n",
    "print(X)\n",
    "\n",
    "print('projections:')\n",
    "for q in Q:\n",
    "    print(q) #projection\n",
    "    \n",
    "Y = mview.projections.PROJ().project(Q,X)\n",
    "\n",
    "print('images:')\n",
    "for y in Y:\n",
    "    print(y) #images\n",
    "\n",
    "from scipy.spatial import distance_matrix\n",
    "D = []\n",
    "for y in Y:\n",
    "    D.append(distance_matrix(y,y))\n",
    "\n",
    "print('distance matrices:')\n",
    "for d in D:\n",
    "    print(d) #distances"
   ]
  },
  {
   "cell_type": "markdown",
   "metadata": {},
   "source": [
    "To compute the cost and individual costs in MPSE using D as the true data and X and Q as the embedding and projections, we run the following:"
   ]
  },
  {
   "cell_type": "code",
   "execution_count": 3,
   "metadata": {},
   "outputs": [
    {
     "name": "stdout",
     "output_type": "stream",
     "text": [
      "total cost: 0.0\n",
      "individual costs: [0. 0. 0.]\n"
     ]
    }
   ],
   "source": [
    "mv = mview.MPSE(D,initial_embedding=X,initial_projections=Q)\n",
    "print('total cost:',mv.cost)\n",
    "print('individual costs:',mv.individual_cost)"
   ]
  },
  {
   "cell_type": "markdown",
   "metadata": {},
   "source": [
    "If we perturb the embedding and projections, we move away from a total cost of 0, as expected."
   ]
  },
  {
   "cell_type": "code",
   "execution_count": 4,
   "metadata": {},
   "outputs": [
    {
     "name": "stdout",
     "output_type": "stream",
     "text": [
      "1.00e-04, 1.24e-04 [1.34543018e-04 6.29276811e-05 1.55585309e-04]\n",
      "3.16e-04, 6.30e-04 [0.00053031 0.00044225 0.00084533]\n",
      "1.00e-03, 2.17e-03 [0.00246422 0.00210086 0.001922  ]\n",
      "3.16e-03, 8.04e-03 [0.00602195 0.00644122 0.01076717]\n",
      "1.00e-02, 1.56e-02 [0.01383523 0.0192225  0.01292659]\n",
      "3.16e-02, 6.31e-02 [0.05124139 0.04201499 0.08698767]\n",
      "1.00e-01, 4.08e-01 [0.20800961 0.59648617 0.31507368]\n",
      "3.16e-01, 1.09e+00 [1.12938968 0.70833614 1.32527315]\n"
     ]
    }
   ],
   "source": [
    "def add_noise(epsilon):\n",
    "    X0 = X+epsilon*np.random.randn(N,3)\n",
    "    Q0 = []\n",
    "    for q in Q:\n",
    "         Q0.append(q+epsilon*np.random.randn(2,3))\n",
    "    mv = mview.MPSE(D,initial_embedding=X0,initial_projections=Q0)\n",
    "    print(f'{epsilon:0.2e}, {mv.cost:0.2e}', mv.individual_cost)\n",
    "\n",
    "for epsilon in 10**np.arange(-4,0,.5):\n",
    "    add_noise(epsilon)"
   ]
  }
 ],
 "metadata": {
  "kernelspec": {
   "display_name": "Python 3",
   "language": "python",
   "name": "python3"
  },
  "language_info": {
   "codemirror_mode": {
    "name": "ipython",
    "version": 3
   },
   "file_extension": ".py",
   "mimetype": "text/x-python",
   "name": "python",
   "nbconvert_exporter": "python",
   "pygments_lexer": "ipython3",
   "version": "3.7.7"
  }
 },
 "nbformat": 4,
 "nbformat_minor": 4
}
